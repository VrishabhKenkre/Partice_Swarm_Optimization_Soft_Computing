{
 "cells": [
  {
   "cell_type": "code",
   "execution_count": 1,
   "metadata": {
    "id": "sk5PfIu6IM3p"
   },
   "outputs": [],
   "source": [
    "from random import random\n",
    "from random import uniform\n",
    "import math\n",
    "import skimage.measure\n",
    "import cv2\n",
    "import numpy as np\n",
    "import matlab.engine\n",
    "import matplotlib.pyplot as plt"
   ]
  },
  {
   "cell_type": "code",
   "execution_count": 2,
   "metadata": {},
   "outputs": [],
   "source": [
    "eng = matlab.engine.start_matlab()"
   ]
  },
  {
   "cell_type": "code",
   "execution_count": 3,
   "metadata": {
    "id": "JcFiIfniIkzJ"
   },
   "outputs": [],
   "source": [
    "def gTransformation(img,a,b,c,k):\n",
    "# g(x,y)\n",
    "# M = No of rows\n",
    "# N = No of columns\n",
    "# img as numpy array\n",
    "  #a = 2\n",
    "  #b = 5\n",
    "  #c = 5\n",
    "  #k = 1\n",
    "  M = np.size(img,0)\n",
    "  N = np.size(img,1)\n",
    "  n = int(M/20)\n",
    "  g = np.zeros((M,N))\n",
    "  gMean,S = cv2.meanStdDev(img)\n",
    "  for i in range(M):\n",
    "    for j in range(N):\n",
    "\n",
    "      xstart = i-n\n",
    "      xend = i+n\n",
    "      ystart = j-n\n",
    "      yend = j+n\n",
    "\n",
    "      if(xstart<0):\n",
    "        xstart = i\n",
    "      if(xend>=N):\n",
    "        xend = i\n",
    "      if(ystart<0):\n",
    "        ystart = j\n",
    "      if(yend>=M):\n",
    "        yend = j\n",
    "      mean, sigma = cv2.meanStdDev(img[xstart:xend, ystart:yend])\n",
    "      #print(mean)\n",
    "      #print((k*gMean)/(sigma + b)*(img[i,j] - c*mean) + mean**a)\n",
    "      g[i,j] = (k*gMean)/(sigma + b)*(img[i,j] - c*mean) + mean**a\n",
    "\n",
    "      #print(max_img)\n",
    "      #print(min_img)\n",
    "      \n",
    "  max_img = np.max(g)\n",
    "  min_img = np.min(g)     \n",
    "  for i in range(M):\n",
    "    for j in range(N):\n",
    "      g[i][j]=g[i][j]*256/(max_img-min_img);\n",
    "      g[i][j] = int(g[i][j])\n",
    "        \n",
    "  \n",
    "  return g\n",
    "            "
   ]
  },
  {
   "cell_type": "code",
   "execution_count": 4,
   "metadata": {
    "id": "riKirg50IVd7"
   },
   "outputs": [],
   "source": [
    "def sobel_custom(grayscale_image):\n",
    "  Gx = np.array([[1.0, 0.0, -1.0], [2.0, 0.0, -2.0], [1.0, 0.0, -1.0]])\n",
    "  Gy = np.array([[1.0, 2.0, 1.0], [0.0, 0.0, 0.0], [-1.0, -2.0, -1.0]])\n",
    "  [rows, columns] = np.shape(grayscale_image)  # we need to know the shape of the input grayscale image\n",
    "  sobel_filtered_image = np.zeros(shape=(rows, columns))  # initialization of the output image array (all elements are 0)\n",
    "  for i in range(rows - 2):\n",
    "    for j in range(columns - 2):\n",
    "        gx = np.sum(np.multiply(Gx, grayscale_image[i:i + 3, j:j + 3]))  # x direction\n",
    "        gy = np.sum(np.multiply(Gy, grayscale_image[i:i + 3, j:j + 3]))  # y direction\n",
    "        sobel_filtered_image[i + 1, j + 1] = np.sqrt(gx ** 2 + gy ** 2)  # calculate the \"hypotenuse\"\n",
    "  sobel_filtered_image = sobel_filtered_image*256\n",
    "  return sobel_filtered_image"
   ]
  },
  {
   "cell_type": "code",
   "execution_count": 5,
   "metadata": {
    "id": "Ak4htHHmSEao"
   },
   "outputs": [],
   "source": [
    "def fitnessFunc(img,x):\n",
    "  sum = 0;\n",
    "  k = 0;\n",
    "  a = x[0]\n",
    "  b = x[1]\n",
    "  c = x[2]\n",
    "  k = x[3]\n",
    "  Gimg = gTransformation(img,a,b,c,k)\n",
    "  sobel_img = sobel_custom(Gimg)\n",
    "  M = sobel_img.shape[0]\n",
    "  N = sobel_img.shape[1]\n",
    "  for i in range(sobel_img.shape[0]):\n",
    "    for j in range(sobel_img.shape[1]):\n",
    "      if(img[i][j]>50):\n",
    "        sum = sum+sobel_img[i][j];\n",
    "    \n",
    "\n",
    "  for i in range(sobel_img.shape[0]):\n",
    "    for j in range(sobel_img.shape[1]):\n",
    "      if(img[i][j]>180):\n",
    "        k = k+1;\n",
    "  E = sum//k\n",
    "  Y = math.log(E)\n",
    "  Z = math.log(Y)\n",
    "  J = eng.edge(Gimg,'Sobel')\n",
    "    #[jj,pp] = eng.bwlabel(J)\n",
    "  cc = eng.bwconncomp(J)\n",
    "  cedge = cc['NumObjects']\n",
    "  no_of_edges = cedge #from matlab\n",
    "\n",
    "  H = skimage.measure.shannon_entropy(img)\n",
    "  s = M*N;\n",
    "  T = no_of_edges/s\n",
    "  F = Z*H*T\n",
    "\n",
    "  return 1/F"
   ]
  },
  {
   "cell_type": "code",
   "execution_count": 6,
   "metadata": {
    "id": "EF_ePoU_IOR8"
   },
   "outputs": [],
   "source": [
    "#--- MAIN ---------------------------------------------------------------------+\n",
    "\n",
    "class Particle:\n",
    "    def __init__(self, x0):\n",
    "        self.position_i=[]          # particle position\n",
    "        self.velocity_i=[]          # particle velocity\n",
    "        self.pos_best_i=[]          # best position individual\n",
    "        self.err_best_i=-1          # best error individual\n",
    "        self.err_i=-1               # error individual\n",
    "\n",
    "        for i in range(0,num_dimensions):\n",
    "            self.velocity_i.append(uniform(-1,1))\n",
    "            self.position_i.append(x0[i])\n",
    "\n",
    "    # evaluate current fitness\n",
    "    def evaluate(self,costFunc):\n",
    "        self.err_i=costFunc(img,self.position_i)\n",
    "\n",
    "        # check to see if the current position is an individual best\n",
    "        if self.err_i<self.err_best_i or self.err_best_i==-1:\n",
    "            self.pos_best_i=self.position_i.copy()\n",
    "            self.err_best_i=self.err_i\n",
    "                    \n",
    "    # update new particle velocity\n",
    "    def update_velocity(self,pos_best_g):\n",
    "        w=0.5       # constant inertia weight (how much to weigh the previous velocity)\n",
    "        c1=1        # cognative constant\n",
    "        c2=2        # social constant\n",
    "        \n",
    "        for i in range(0,num_dimensions):\n",
    "            r1=random()\n",
    "            r2=random()\n",
    "            \n",
    "            vel_cognitive=c1*r1*(self.pos_best_i[i]-self.position_i[i])\n",
    "            vel_social=c2*r2*(pos_best_g[i]-self.position_i[i])\n",
    "            self.velocity_i[i]=w*self.velocity_i[i]+vel_cognitive+vel_social\n",
    "\n",
    "    # update the particle position based off new velocity updates\n",
    "    def update_position(self,bounds):\n",
    "        for i in range(0,num_dimensions):\n",
    "            self.position_i[i]=self.position_i[i]+self.velocity_i[i]\n",
    "            \n",
    "            # adjust maximum position if necessary\n",
    "            if self.position_i[i]>bounds[i][1]:\n",
    "                self.position_i[i]=bounds[i][1]\n",
    "\n",
    "            # adjust minimum position if neseccary\n",
    "            if self.position_i[i]<bounds[i][0]:\n",
    "                self.position_i[i]=bounds[i][0]\n",
    "        \n",
    "        \n",
    "def minimize(costFunc, x0, bounds, num_particles, maxiter, verbose=False):\n",
    "    global num_dimensions\n",
    "\n",
    "    num_dimensions=len(x0)\n",
    "    err_best_g=-1                   # best error for group\n",
    "    pos_best_g=[]                   # best position for group\n",
    "\n",
    "    # establish the swarm\n",
    "    swarm=[]\n",
    "    for i in range(0,num_particles):\n",
    "        swarm.append(Particle(x0))\n",
    "\n",
    "    # begin optimization loop\n",
    "    i=0\n",
    "    while i<maxiter:\n",
    "        if verbose: \n",
    "            print(f'iter: {i:>4d}, best solution: {err_best_g:10.6f}')\n",
    "            print(pos_best_g)\n",
    "            #currentimg = gTransformation(img,pos_best_g[0],pos_best_g[1],pos_best_g[2],pos_best_g[3])\n",
    "            #plt.imshow(currentimg,cmap='gray')\n",
    "            \n",
    "        # cycle through particles in swarm and evaluate fitness\n",
    "        for j in range(0,num_particles):\n",
    "            swarm[j].evaluate(costFunc)\n",
    "\n",
    "            # determine if current particle is the best (globally)\n",
    "            if swarm[j].err_i<err_best_g or err_best_g==-1:\n",
    "                pos_best_g=list(swarm[j].position_i)\n",
    "                err_best_g=float(swarm[j].err_i)\n",
    "        \n",
    "        # cycle through swarm and update velocities and position\n",
    "        for j in range(0,num_particles):\n",
    "            swarm[j].update_velocity(pos_best_g)\n",
    "            swarm[j].update_position(bounds)\n",
    "        i+=1\n",
    "\n",
    "    # print final results\n",
    "    if verbose:\n",
    "        print('\\nFINAL SOLUTION:')\n",
    "        print(f'   > {pos_best_g}')\n",
    "        print(f'   > {err_best_g}\\n')\n",
    "\n",
    "    return err_best_g, pos_best_g"
   ]
  },
  {
   "cell_type": "code",
   "execution_count": 7,
   "metadata": {
    "id": "Gbk4lTmMSHGK"
   },
   "outputs": [],
   "source": [
    "img = cv2.imread(\"cameraman.png\")\n",
    "gray_image = cv2.cvtColor(img, cv2.COLOR_BGR2GRAY)\n",
    "#f = fitnessFunc(gray_image)\n",
    "#f\n",
    "img = gray_image"
   ]
  },
  {
   "cell_type": "code",
   "execution_count": 8,
   "metadata": {},
   "outputs": [],
   "source": [
    "initial=[1.3884230563154893, 0.15466137373411903, 0.9274511132456694, 1.276719804958083]               # initial starting location [x1,x2...]\n",
    "bounds=[(-10,10),(-10,10),(-10,10),(0.5,1.5)]"
   ]
  },
  {
   "cell_type": "code",
   "execution_count": 9,
   "metadata": {},
   "outputs": [
    {
     "name": "stdout",
     "output_type": "stream",
     "text": [
      "iter:    0, best solution:  -1.000000\n",
      "[]\n",
      "iter:    1, best solution:  37.787775\n",
      "[2, 0.5, 1.5, 1.4]\n"
     ]
    },
    {
     "ename": "KeyboardInterrupt",
     "evalue": "",
     "output_type": "error",
     "traceback": [
      "\u001b[1;31m---------------------------------------------------------------------------\u001b[0m",
      "\u001b[1;31mKeyboardInterrupt\u001b[0m                         Traceback (most recent call last)",
      "Cell \u001b[1;32mIn[9], line 1\u001b[0m\n\u001b[1;32m----> 1\u001b[0m \u001b[43mminimize\u001b[49m\u001b[43m(\u001b[49m\u001b[43mfitnessFunc\u001b[49m\u001b[43m,\u001b[49m\u001b[43m \u001b[49m\u001b[43minitial\u001b[49m\u001b[43m,\u001b[49m\u001b[43m \u001b[49m\u001b[43mbounds\u001b[49m\u001b[43m,\u001b[49m\u001b[43m \u001b[49m\u001b[43mnum_particles\u001b[49m\u001b[38;5;241;43m=\u001b[39;49m\u001b[38;5;241;43m15\u001b[39;49m\u001b[43m,\u001b[49m\u001b[43m \u001b[49m\u001b[43mmaxiter\u001b[49m\u001b[38;5;241;43m=\u001b[39;49m\u001b[38;5;241;43m30\u001b[39;49m\u001b[43m,\u001b[49m\u001b[43m \u001b[49m\u001b[43mverbose\u001b[49m\u001b[38;5;241;43m=\u001b[39;49m\u001b[38;5;28;43;01mTrue\u001b[39;49;00m\u001b[43m)\u001b[49m\n",
      "Cell \u001b[1;32mIn[6], line 75\u001b[0m, in \u001b[0;36mminimize\u001b[1;34m(costFunc, x0, bounds, num_particles, maxiter, verbose)\u001b[0m\n\u001b[0;32m     70\u001b[0m     \u001b[38;5;66;03m#currentimg = gTransformation(img,pos_best_g[0],pos_best_g[1],pos_best_g[2],pos_best_g[3])\u001b[39;00m\n\u001b[0;32m     71\u001b[0m     \u001b[38;5;66;03m#plt.imshow(currentimg,cmap='gray')\u001b[39;00m\n\u001b[0;32m     72\u001b[0m     \n\u001b[0;32m     73\u001b[0m \u001b[38;5;66;03m# cycle through particles in swarm and evaluate fitness\u001b[39;00m\n\u001b[0;32m     74\u001b[0m \u001b[38;5;28;01mfor\u001b[39;00m j \u001b[38;5;129;01min\u001b[39;00m \u001b[38;5;28mrange\u001b[39m(\u001b[38;5;241m0\u001b[39m,num_particles):\n\u001b[1;32m---> 75\u001b[0m     \u001b[43mswarm\u001b[49m\u001b[43m[\u001b[49m\u001b[43mj\u001b[49m\u001b[43m]\u001b[49m\u001b[38;5;241;43m.\u001b[39;49m\u001b[43mevaluate\u001b[49m\u001b[43m(\u001b[49m\u001b[43mcostFunc\u001b[49m\u001b[43m)\u001b[49m\n\u001b[0;32m     77\u001b[0m     \u001b[38;5;66;03m# determine if current particle is the best (globally)\u001b[39;00m\n\u001b[0;32m     78\u001b[0m     \u001b[38;5;28;01mif\u001b[39;00m swarm[j]\u001b[38;5;241m.\u001b[39merr_i\u001b[38;5;241m<\u001b[39merr_best_g \u001b[38;5;129;01mor\u001b[39;00m err_best_g\u001b[38;5;241m==\u001b[39m\u001b[38;5;241m-\u001b[39m\u001b[38;5;241m1\u001b[39m:\n",
      "Cell \u001b[1;32mIn[6], line 17\u001b[0m, in \u001b[0;36mParticle.evaluate\u001b[1;34m(self, costFunc)\u001b[0m\n\u001b[0;32m     16\u001b[0m \u001b[38;5;28;01mdef\u001b[39;00m \u001b[38;5;21mevaluate\u001b[39m(\u001b[38;5;28mself\u001b[39m,costFunc):\n\u001b[1;32m---> 17\u001b[0m     \u001b[38;5;28mself\u001b[39m\u001b[38;5;241m.\u001b[39merr_i\u001b[38;5;241m=\u001b[39m\u001b[43mcostFunc\u001b[49m\u001b[43m(\u001b[49m\u001b[43mimg\u001b[49m\u001b[43m,\u001b[49m\u001b[38;5;28;43mself\u001b[39;49m\u001b[38;5;241;43m.\u001b[39;49m\u001b[43mposition_i\u001b[49m\u001b[43m)\u001b[49m\n\u001b[0;32m     19\u001b[0m     \u001b[38;5;66;03m# check to see if the current position is an individual best\u001b[39;00m\n\u001b[0;32m     20\u001b[0m     \u001b[38;5;28;01mif\u001b[39;00m \u001b[38;5;28mself\u001b[39m\u001b[38;5;241m.\u001b[39merr_i\u001b[38;5;241m<\u001b[39m\u001b[38;5;28mself\u001b[39m\u001b[38;5;241m.\u001b[39merr_best_i \u001b[38;5;129;01mor\u001b[39;00m \u001b[38;5;28mself\u001b[39m\u001b[38;5;241m.\u001b[39merr_best_i\u001b[38;5;241m==\u001b[39m\u001b[38;5;241m-\u001b[39m\u001b[38;5;241m1\u001b[39m:\n",
      "Cell \u001b[1;32mIn[5], line 8\u001b[0m, in \u001b[0;36mfitnessFunc\u001b[1;34m(img, x)\u001b[0m\n\u001b[0;32m      6\u001b[0m c \u001b[38;5;241m=\u001b[39m x[\u001b[38;5;241m2\u001b[39m]\n\u001b[0;32m      7\u001b[0m k \u001b[38;5;241m=\u001b[39m x[\u001b[38;5;241m3\u001b[39m]\n\u001b[1;32m----> 8\u001b[0m Gimg \u001b[38;5;241m=\u001b[39m \u001b[43mgTransformation\u001b[49m\u001b[43m(\u001b[49m\u001b[43mimg\u001b[49m\u001b[43m,\u001b[49m\u001b[43ma\u001b[49m\u001b[43m,\u001b[49m\u001b[43mb\u001b[49m\u001b[43m,\u001b[49m\u001b[43mc\u001b[49m\u001b[43m,\u001b[49m\u001b[43mk\u001b[49m\u001b[43m)\u001b[49m\n\u001b[0;32m      9\u001b[0m sobel_img \u001b[38;5;241m=\u001b[39m sobel_custom(Gimg)\n\u001b[0;32m     10\u001b[0m M \u001b[38;5;241m=\u001b[39m sobel_img\u001b[38;5;241m.\u001b[39mshape[\u001b[38;5;241m0\u001b[39m]\n",
      "Cell \u001b[1;32mIn[3], line 31\u001b[0m, in \u001b[0;36mgTransformation\u001b[1;34m(img, a, b, c, k)\u001b[0m\n\u001b[0;32m     29\u001b[0m \u001b[38;5;28;01mif\u001b[39;00m(yend\u001b[38;5;241m>\u001b[39m\u001b[38;5;241m=\u001b[39mM):\n\u001b[0;32m     30\u001b[0m   yend \u001b[38;5;241m=\u001b[39m j\n\u001b[1;32m---> 31\u001b[0m mean, sigma \u001b[38;5;241m=\u001b[39m \u001b[43mcv2\u001b[49m\u001b[38;5;241;43m.\u001b[39;49m\u001b[43mmeanStdDev\u001b[49m\u001b[43m(\u001b[49m\u001b[43mimg\u001b[49m\u001b[43m[\u001b[49m\u001b[43mxstart\u001b[49m\u001b[43m:\u001b[49m\u001b[43mxend\u001b[49m\u001b[43m,\u001b[49m\u001b[43m \u001b[49m\u001b[43mystart\u001b[49m\u001b[43m:\u001b[49m\u001b[43myend\u001b[49m\u001b[43m]\u001b[49m\u001b[43m)\u001b[49m\n\u001b[0;32m     32\u001b[0m \u001b[38;5;66;03m#print(mean)\u001b[39;00m\n\u001b[0;32m     33\u001b[0m \u001b[38;5;66;03m#print((k*gMean)/(sigma + b)*(img[i,j] - c*mean) + mean**a)\u001b[39;00m\n\u001b[0;32m     34\u001b[0m g[i,j] \u001b[38;5;241m=\u001b[39m (k\u001b[38;5;241m*\u001b[39mgMean)\u001b[38;5;241m/\u001b[39m(sigma \u001b[38;5;241m+\u001b[39m b)\u001b[38;5;241m*\u001b[39m(img[i,j] \u001b[38;5;241m-\u001b[39m c\u001b[38;5;241m*\u001b[39mmean) \u001b[38;5;241m+\u001b[39m mean\u001b[38;5;241m*\u001b[39m\u001b[38;5;241m*\u001b[39ma\n",
      "\u001b[1;31mKeyboardInterrupt\u001b[0m: "
     ]
    }
   ],
   "source": [
    "minimize(fitnessFunc, initial, bounds, num_particles=15, maxiter=30, verbose=True)"
   ]
  },
  {
   "cell_type": "code",
   "execution_count": null,
   "metadata": {},
   "outputs": [],
   "source": [
    "aopt = 1.3828390678652576\n",
    "bopt = -0.051058268158485805\n",
    "copt = 1.0549935426028143\n",
    "kopt = 0.5\n",
    "enhancedimg = gTransformation(img,aopt,bopt,copt,kopt)\n",
    "plt.imshow(enhancedimg,cmap='gray')"
   ]
  },
  {
   "cell_type": "code",
   "execution_count": null,
   "metadata": {},
   "outputs": [],
   "source": [
    "enhancedimg"
   ]
  }
 ],
 "metadata": {
  "colab": {
   "provenance": []
  },
  "kernelspec": {
   "display_name": "Python 3 (ipykernel)",
   "language": "python",
   "name": "python3"
  },
  "language_info": {
   "codemirror_mode": {
    "name": "ipython",
    "version": 3
   },
   "file_extension": ".py",
   "mimetype": "text/x-python",
   "name": "python",
   "nbconvert_exporter": "python",
   "pygments_lexer": "ipython3",
   "version": "3.9.10"
  }
 },
 "nbformat": 4,
 "nbformat_minor": 1
}
